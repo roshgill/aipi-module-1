{
 "cells": [
  {
   "cell_type": "markdown",
   "metadata": {},
   "source": [
    "## Key Findings\n",
    "\n",
    "1. **Scale**: Dataset covers substantial Claude usage across NC and US\n",
    "2. **Collaboration**: Different collaboration patterns between regions  \n",
    "3. **Tasks**: Hundreds of ONET task categories with multi-label usage\n",
    "4. **Scope**: One-week snapshot (Aug 4-11, 2025)"
   ]
  },
  {
   "cell_type": "markdown",
   "metadata": {},
   "source": [
    "# Exploratory Data Analysis: Anthropic Economic Index (AEI)\n",
    "\n",
    "**Dataset**: Claude AI usage data (2025-08-04 to 2025-08-11)  \n",
    "**Focus**: Comparing North Carolina vs US usage patterns\n",
    "\n",
    "This notebook provides a lightweight, reproducible EDA of the raw AEI dataset."
   ]
  },
  {
   "cell_type": "markdown",
   "metadata": {},
   "source": [
    "## Setup & Data Loading"
   ]
  },
  {
   "cell_type": "code",
   "execution_count": 30,
   "metadata": {},
   "outputs": [],
   "source": [
    "import pandas as pd\n",
    "import matplotlib.pyplot as plt\n",
    "import numpy as np\n",
    "import os\n",
    "\n",
    "# Set up plotting style\n",
    "plt.style.use('default')\n",
    "plt.rcParams['figure.facecolor'] = 'white'\n",
    "\n",
    "# Ensure figures directory exists\n",
    "os.makedirs('../figures', exist_ok=True)"
   ]
  },
  {
   "cell_type": "code",
   "execution_count": 31,
   "metadata": {},
   "outputs": [
    {
     "name": "stdout",
     "output_type": "stream",
     "text": [
      "Dataset loaded: 100,062 rows x 10 columns\n"
     ]
    }
   ],
   "source": [
    "# Load raw data\n",
    "df = pd.read_csv('../data/raw/aei_raw_claude_ai_2025-08-04_to_2025-08-11.csv')\n",
    "print(f\"Dataset loaded: {df.shape[0]:,} rows x {df.shape[1]} columns\")"
   ]
  },
  {
   "cell_type": "markdown",
   "metadata": {},
   "source": [
    "## Basic Data Exploration"
   ]
  },
  {
   "cell_type": "code",
   "execution_count": 32,
   "metadata": {},
   "outputs": [
    {
     "name": "stdout",
     "output_type": "stream",
     "text": [
      "Shape: (100062, 10)\n",
      "Columns: ['geo_id', 'geography', 'date_start', 'date_end', 'platform_and_product', 'facet', 'level', 'variable', 'cluster_name', 'value']\n"
     ]
    }
   ],
   "source": [
    "# Basic data overview\n",
    "print(f\"Shape: {df.shape}\")\n",
    "print(f\"Columns: {list(df.columns)}\")"
   ]
  },
  {
   "cell_type": "code",
   "execution_count": 33,
   "metadata": {},
   "outputs": [
    {
     "data": {
      "text/html": [
       "<div>\n",
       "<style scoped>\n",
       "    .dataframe tbody tr th:only-of-type {\n",
       "        vertical-align: middle;\n",
       "    }\n",
       "\n",
       "    .dataframe tbody tr th {\n",
       "        vertical-align: top;\n",
       "    }\n",
       "\n",
       "    .dataframe thead th {\n",
       "        text-align: right;\n",
       "    }\n",
       "</style>\n",
       "<table border=\"1\" class=\"dataframe\">\n",
       "  <thead>\n",
       "    <tr style=\"text-align: right;\">\n",
       "      <th></th>\n",
       "      <th>geo_id</th>\n",
       "      <th>geography</th>\n",
       "      <th>date_start</th>\n",
       "      <th>date_end</th>\n",
       "      <th>platform_and_product</th>\n",
       "      <th>facet</th>\n",
       "      <th>level</th>\n",
       "      <th>variable</th>\n",
       "      <th>cluster_name</th>\n",
       "      <th>value</th>\n",
       "    </tr>\n",
       "  </thead>\n",
       "  <tbody>\n",
       "    <tr>\n",
       "      <th>0</th>\n",
       "      <td>AD</td>\n",
       "      <td>country</td>\n",
       "      <td>2025-08-04</td>\n",
       "      <td>2025-08-11</td>\n",
       "      <td>Claude AI (Free and Pro)</td>\n",
       "      <td>collaboration</td>\n",
       "      <td>0</td>\n",
       "      <td>collaboration_count</td>\n",
       "      <td>not_classified</td>\n",
       "      <td>25.0</td>\n",
       "    </tr>\n",
       "    <tr>\n",
       "      <th>1</th>\n",
       "      <td>AD</td>\n",
       "      <td>country</td>\n",
       "      <td>2025-08-04</td>\n",
       "      <td>2025-08-11</td>\n",
       "      <td>Claude AI (Free and Pro)</td>\n",
       "      <td>collaboration</td>\n",
       "      <td>0</td>\n",
       "      <td>collaboration_pct</td>\n",
       "      <td>not_classified</td>\n",
       "      <td>62.5</td>\n",
       "    </tr>\n",
       "    <tr>\n",
       "      <th>2</th>\n",
       "      <td>AD</td>\n",
       "      <td>country</td>\n",
       "      <td>2025-08-04</td>\n",
       "      <td>2025-08-11</td>\n",
       "      <td>Claude AI (Free and Pro)</td>\n",
       "      <td>collaboration</td>\n",
       "      <td>0</td>\n",
       "      <td>collaboration_count</td>\n",
       "      <td>task iteration</td>\n",
       "      <td>15.0</td>\n",
       "    </tr>\n",
       "    <tr>\n",
       "      <th>3</th>\n",
       "      <td>AD</td>\n",
       "      <td>country</td>\n",
       "      <td>2025-08-04</td>\n",
       "      <td>2025-08-11</td>\n",
       "      <td>Claude AI (Free and Pro)</td>\n",
       "      <td>collaboration</td>\n",
       "      <td>0</td>\n",
       "      <td>collaboration_pct</td>\n",
       "      <td>task iteration</td>\n",
       "      <td>37.5</td>\n",
       "    </tr>\n",
       "    <tr>\n",
       "      <th>4</th>\n",
       "      <td>AD</td>\n",
       "      <td>country</td>\n",
       "      <td>2025-08-04</td>\n",
       "      <td>2025-08-11</td>\n",
       "      <td>Claude AI (Free and Pro)</td>\n",
       "      <td>country</td>\n",
       "      <td>0</td>\n",
       "      <td>usage_count</td>\n",
       "      <td>NaN</td>\n",
       "      <td>40.0</td>\n",
       "    </tr>\n",
       "  </tbody>\n",
       "</table>\n",
       "</div>"
      ],
      "text/plain": [
       "  geo_id geography  date_start    date_end      platform_and_product  \\\n",
       "0     AD   country  2025-08-04  2025-08-11  Claude AI (Free and Pro)   \n",
       "1     AD   country  2025-08-04  2025-08-11  Claude AI (Free and Pro)   \n",
       "2     AD   country  2025-08-04  2025-08-11  Claude AI (Free and Pro)   \n",
       "3     AD   country  2025-08-04  2025-08-11  Claude AI (Free and Pro)   \n",
       "4     AD   country  2025-08-04  2025-08-11  Claude AI (Free and Pro)   \n",
       "\n",
       "           facet  level             variable    cluster_name  value  \n",
       "0  collaboration      0  collaboration_count  not_classified   25.0  \n",
       "1  collaboration      0    collaboration_pct  not_classified   62.5  \n",
       "2  collaboration      0  collaboration_count  task iteration   15.0  \n",
       "3  collaboration      0    collaboration_pct  task iteration   37.5  \n",
       "4        country      0          usage_count             NaN   40.0  "
      ]
     },
     "execution_count": 33,
     "metadata": {},
     "output_type": "execute_result"
    }
   ],
   "source": [
    "# First few rows\n",
    "df.head()"
   ]
  },
  {
   "cell_type": "code",
   "execution_count": 34,
   "metadata": {},
   "outputs": [
    {
     "name": "stdout",
     "output_type": "stream",
     "text": [
      "Facets: ['collaboration' 'country' 'onet_task' 'request'\n",
      " 'onet_task::collaboration' 'request::collaboration' 'state_us']\n",
      "Variables: ['collaboration_count' 'collaboration_pct' 'usage_count' 'usage_pct'\n",
      " 'onet_task_count' 'onet_task_pct' 'request_count' 'request_pct'\n",
      " 'onet_task_collaboration_count' 'onet_task_collaboration_pct'\n",
      " 'request_collaboration_count' 'request_collaboration_pct']\n"
     ]
    }
   ],
   "source": [
    "# Key variables\n",
    "print(\"Facets:\", df['facet'].unique())\n",
    "print(\"Variables:\", df['variable'].unique())"
   ]
  },
  {
   "cell_type": "markdown",
   "metadata": {},
   "source": [
    "## Filter NC and US Data"
   ]
  },
  {
   "cell_type": "code",
   "execution_count": 35,
   "metadata": {},
   "outputs": [
    {
     "name": "stdout",
     "output_type": "stream",
     "text": [
      "NC data: 532 rows\n",
      "US data: 3,952 rows\n"
     ]
    }
   ],
   "source": [
    "# Filter NC and US data\n",
    "df_nc = df[(df['geography'] == 'state_us') & (df['geo_id'] == 'NC')].copy()\n",
    "df_us = df[(df['geography'] == 'country') & (df['geo_id'] == 'US')].copy()\n",
    "\n",
    "# Exclude not_classified and none\n",
    "exclude_clusters = ['not_classified', 'none']\n",
    "df_nc = df_nc[~df_nc['cluster_name'].isin(exclude_clusters)]\n",
    "df_us = df_us[~df_us['cluster_name'].isin(exclude_clusters)]\n",
    "\n",
    "print(f\"NC data: {df_nc.shape[0]:,} rows\")\n",
    "print(f\"US data: {df_us.shape[0]:,} rows\")"
   ]
  },
  {
   "cell_type": "markdown",
   "metadata": {},
   "source": [
    "## Collaboration Analysis"
   ]
  },
  {
   "cell_type": "code",
   "execution_count": 36,
   "metadata": {},
   "outputs": [
    {
     "name": "stdout",
     "output_type": "stream",
     "text": [
      "Collaboration patterns:\n",
      "NC: ['directive', 'feedback loop', 'learning', 'task iteration', 'validation']\n",
      "US: ['directive', 'feedback loop', 'learning', 'task iteration', 'validation']\n"
     ]
    }
   ],
   "source": [
    "# Collaboration patterns\n",
    "collab_nc = df_nc[(df_nc['facet'] == 'collaboration') & (df_nc['variable'] == 'collaboration_pct')]\n",
    "collab_us = df_us[(df_us['facet'] == 'collaboration') & (df_us['variable'] == 'collaboration_pct')]\n",
    "\n",
    "print(\"Collaboration patterns:\")\n",
    "print(\"NC:\", list(collab_nc['cluster_name'].unique()))\n",
    "print(\"US:\", list(collab_us['cluster_name'].unique()))"
   ]
  },
  {
   "cell_type": "code",
   "execution_count": 37,
   "metadata": {},
   "outputs": [
    {
     "name": "stdout",
     "output_type": "stream",
     "text": [
      "Collaboration comparison:\n",
      "     cluster_name      NC      US\n",
      "0       directive  36.351  36.961\n",
      "1   feedback loop   8.861   8.263\n",
      "2        learning  22.616  21.272\n",
      "3  task iteration  25.111  21.176\n",
      "4      validation   4.759   4.482\n"
     ]
    }
   ],
   "source": [
    "# Compare NC vs US collaboration\n",
    "collab_comparison = pd.merge(\n",
    "    collab_nc[['cluster_name', 'value']].rename(columns={'value': 'NC'}),\n",
    "    collab_us[['cluster_name', 'value']].rename(columns={'value': 'US'}),\n",
    "    on='cluster_name'\n",
    ")\n",
    "\n",
    "print(\"Collaboration comparison:\")\n",
    "print(collab_comparison.round(3))"
   ]
  },
  {
   "cell_type": "code",
   "execution_count": 38,
   "metadata": {},
   "outputs": [
    {
     "data": {
      "image/png": "[encoded data removed]",
      "text/plain": [
       "<Figure size 1000x600 with 1 Axes>"
      ]
     },
     "metadata": {},
     "output_type": "display_data"
    }
   ],
   "source": [
    "# Plot collaboration comparison\n",
    "fig, ax = plt.subplots(figsize=(10, 6))\n",
    "\n",
    "x = np.arange(len(collab_comparison))\n",
    "width = 0.35\n",
    "\n",
    "ax.bar(x - width/2, collab_comparison['NC'], width, label='NC', color='#1f77b4')\n",
    "ax.bar(x + width/2, collab_comparison['US'], width, label='US', color='#ff7f0e')\n",
    "\n",
    "ax.set_xlabel('Collaboration Pattern')\n",
    "ax.set_ylabel('Share of Claude Usage (%)')\n",
    "ax.set_title('Collaboration Patterns: NC vs US')\n",
    "ax.set_xticks(x)\n",
    "ax.set_xticklabels(collab_comparison['cluster_name'], rotation=45, ha='right')\n",
    "ax.legend()\n",
    "\n",
    "plt.tight_layout()\n",
    "plt.savefig('../figures/eda_collab_nc_us.png', dpi=150, bbox_inches='tight')\n",
    "plt.show()"
   ]
  },
  {
   "cell_type": "markdown",
   "metadata": {},
   "source": [
    "## ONET Task Analysis"
   ]
  },
  {
   "cell_type": "code",
   "execution_count": 39,
   "metadata": {},
   "outputs": [
    {
     "name": "stdout",
     "output_type": "stream",
     "text": [
      "ONET tasks in NC: 67\n",
      "ONET tasks in US: 1254\n"
     ]
    }
   ],
   "source": [
    "# ONET task overview\n",
    "onet_nc = df_nc[df_nc['facet'] == 'onet_task']['cluster_name'].nunique()\n",
    "onet_us = df_us[df_us['facet'] == 'onet_task']['cluster_name'].nunique()\n",
    "\n",
    "print(f\"ONET tasks in NC: {onet_nc}\")\n",
    "print(f\"ONET tasks in US: {onet_us}\")"
   ]
  },
  {
   "cell_type": "code",
   "execution_count": 40,
   "metadata": {},
   "outputs": [
    {
     "name": "stdout",
     "output_type": "stream",
     "text": [
      "Top 10 ONET tasks in NC:\n",
      " 1. write new programs or modify existing programs to meet customer requirements, using current programming languages and technologies.: 2.84%\n",
      " 2. diagnose, troubleshoot, and resolve hardware, software, or other network and system problems, and replace defective components when necessary.: 2.28%\n",
      " 3. modify existing software to correct errors, allow it to adapt to new hardware, or to improve its performance.: 1.99%\n",
      " 4. edit or rewrite existing copy as necessary, and submit copy for approval by supervisor.: 1.76%\n",
      " 5. perform routine system administrative functions such as troubleshooting, back-ups, and upgrades.: 1.59%\n",
      " 6. prepare, rewrite and edit copy to improve readability, or supervise others who do this work.: 1.53%\n",
      " 7. modify existing software to correct errors, to adapt it to new hardware, or to upgrade interfaces and improve performance.: 1.49%\n",
      " 8. correct errors by making appropriate changes and rechecking the program to ensure that the desired results are produced.: 1.35%\n",
      " 9. instruct individuals in career development techniques such as job search and application strategies, resume writing, and interview skills.: 1.28%\n",
      "10. design, build, or maintain web sites, using authoring or scripting languages, content creation tools, management tools, and digital media.: 1.24%\n"
     ]
    }
   ],
   "source": [
    "# Top 10 NC tasks by percentage\n",
    "onet_nc_pct = df_nc[\n",
    "    (df_nc['facet'] == 'onet_task') & \n",
    "    (df_nc['variable'] == 'onet_task_pct')\n",
    "][['cluster_name', 'value']].sort_values('value', ascending=False).head(10)\n",
    "\n",
    "print(\"Top 10 ONET tasks in NC:\")\n",
    "for i, (_, row) in enumerate(onet_nc_pct.iterrows(), 1):\n",
    "    print(f\"{i:2d}. {row['cluster_name']}: {row['value']:.2f}%\")"
   ]
  },
  {
   "cell_type": "code",
   "execution_count": 41,
   "metadata": {},
   "outputs": [
    {
     "name": "stdout",
     "output_type": "stream",
     "text": [
      "Sum of onet_task_pct - NC: 44.03, US: 82.83\n",
      "Tasks are multi-label (sum > 1.0)\n"
     ]
    }
   ],
   "source": [
    "# Check if tasks are multi-label\n",
    "total_nc = df_nc[(df_nc['facet'] == 'onet_task') & (df_nc['variable'] == 'onet_task_pct')]['value'].sum()\n",
    "total_us = df_us[(df_us['facet'] == 'onet_task') & (df_us['variable'] == 'onet_task_pct')]['value'].sum()\n",
    "\n",
    "print(f\"Sum of onet_task_pct - NC: {total_nc:.2f}, US: {total_us:.2f}\")\n",
    "print(f\"Tasks are {'multi-label' if total_nc > 1.0 else 'single-label'} (sum > 1.0)\")"
   ]
  }
 ],
 "metadata": {
  "kernelspec": {
   "display_name": "venv",
   "language": "python",
   "name": "python3"
  },
  "language_info": {
   "codemirror_mode": {
    "name": "ipython",
    "version": 3
   },
   "file_extension": ".py",
   "mimetype": "text/x-python",
   "name": "python",
   "nbconvert_exporter": "python",
   "pygments_lexer": "ipython3",
   "version": "3.13.3"
  }
 },
 "nbformat": 4,
 "nbformat_minor": 4
}
